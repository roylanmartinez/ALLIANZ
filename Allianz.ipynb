{
 "cells": [
  {
   "cell_type": "markdown",
   "metadata": {},
   "source": [
    "# Libraries used for the last part "
   ]
  },
  {
   "cell_type": "code",
   "execution_count": 3,
   "metadata": {},
   "outputs": [],
   "source": [
    "import xgboost as xgb\n",
    "import pandas as pd\n",
    "from sklearn.preprocessing import StandardScaler\n",
    "from sklearn.model_selection import train_test_split\n",
    "from sklearn.preprocessing import LabelEncoder\n",
    "from sklearn.metrics import classification_report"
   ]
  },
  {
   "cell_type": "markdown",
   "metadata": {},
   "source": [
    "## Definition of the data to be trained"
   ]
  },
  {
   "cell_type": "code",
   "execution_count": 4,
   "metadata": {},
   "outputs": [],
   "source": [
    "# Definition of X \n",
    "X = pd.read_csv(\"Datathon_Allianz-main/Datathon/allianz.csv\")\n",
    "\n",
    "# Definition of the main treated in the first ipynb\n",
    "main = pd.read_csv(\"Datathon_Allianz-main/Datathon/main_1.csv\")\n",
    "\n",
    "# Definition of the popensity to pay between 0 and 1\n",
    "main['BOOLEAN_PROP_TO_PAY'] = main['PROPENSITY_TO_PAY'].astype(float) > 0.95"
   ]
  },
  {
   "cell_type": "markdown",
   "metadata": {},
   "source": [
    "We defined that the *propensity_to_pay* recommended by this model, which can be definetely be improved, waas $0.95$, taking into account that it is above the $95$ percentile."
   ]
  },
  {
   "cell_type": "markdown",
   "metadata": {},
   "source": [
    "## Description PROPENSITY_TO_PAY"
   ]
  },
  {
   "cell_type": "code",
   "execution_count": 5,
   "metadata": {},
   "outputs": [
    {
     "data": {
      "text/plain": [
       "count    33110.000000\n",
       "mean         0.887577\n",
       "std          0.071992\n",
       "min          0.000000\n",
       "25%          0.833333\n",
       "50%          0.868056\n",
       "75%          0.953704\n",
       "max          1.000000\n",
       "Name: PROPENSITY_TO_PAY, dtype: float64"
      ]
     },
     "execution_count": 5,
     "metadata": {},
     "output_type": "execute_result"
    }
   ],
   "source": [
    "main['PROPENSITY_TO_PAY'].astype(float).describe()"
   ]
  },
  {
   "cell_type": "markdown",
   "metadata": {},
   "source": [
    "## Description BOOLEAN_PROP_TO_PAY"
   ]
  },
  {
   "cell_type": "code",
   "execution_count": 6,
   "metadata": {},
   "outputs": [
    {
     "data": {
      "text/plain": [
       "count    33110.000000\n",
       "mean         0.887577\n",
       "std          0.071992\n",
       "min          0.000000\n",
       "25%          0.833333\n",
       "50%          0.868056\n",
       "75%          0.953704\n",
       "max          1.000000\n",
       "Name: PROPENSITY_TO_PAY, dtype: float64"
      ]
     },
     "execution_count": 6,
     "metadata": {},
     "output_type": "execute_result"
    }
   ],
   "source": [
    "main['PROPENSITY_TO_PAY'].astype(float).describe()"
   ]
  },
  {
   "cell_type": "code",
   "execution_count": 7,
   "metadata": {},
   "outputs": [],
   "source": [
    "# SEPARATE DATA WITH PERCENTAGE\n",
    "X_train, X_test, y_train, y_test= train_test_split(X.astype(float),main.BOOLEAN_PROP_TO_PAY.astype(float),test_size=0.8,random_state=1)"
   ]
  },
  {
   "cell_type": "code",
   "execution_count": 8,
   "metadata": {},
   "outputs": [
    {
     "data": {
      "text/plain": [
       "array([0, 0, 1, ..., 0, 0, 0])"
      ]
     },
     "execution_count": 8,
     "metadata": {},
     "output_type": "execute_result"
    }
   ],
   "source": [
    "# import algorithm \n",
    "xgb_clf= xgb.XGBClassifier()\n",
    "\n",
    "\n",
    "#fitting the model\n",
    "le = LabelEncoder()\n",
    "y_train = le.fit_transform(y_train)\n",
    "# y_train\n",
    "\n",
    "xgb_clf.fit(X_train, y_train)\n",
    "\n",
    "\n",
    "## Predicting the model\n",
    "xgb_predict= xgb_clf.predict(X_test)\n",
    "xgb_predict"
   ]
  },
  {
   "cell_type": "code",
   "execution_count": 9,
   "metadata": {},
   "outputs": [],
   "source": [
    "test = le.inverse_transform(xgb_predict)"
   ]
  },
  {
   "cell_type": "code",
   "execution_count": 10,
   "metadata": {},
   "outputs": [
    {
     "name": "stdout",
     "output_type": "stream",
     "text": [
      "Model 1 XGboost Report for ALLIANZ \n",
      "               precision    recall  f1-score   support\n",
      "\n",
      "           0       0.91      0.76      0.83     23401\n",
      "           1       0.19      0.44      0.26      3087\n",
      "\n",
      "    accuracy                           0.72     26488\n",
      "   macro avg       0.55      0.60      0.55     26488\n",
      "weighted avg       0.83      0.72      0.76     26488\n",
      "\n"
     ]
    }
   ],
   "source": [
    "print(f'Model 1 XGboost Report for ALLIANZ \\n {classification_report(xgb_predict, y_test)}')"
   ]
  }
 ],
 "metadata": {
  "kernelspec": {
   "display_name": "Python 3.9.9 ('.venv': venv)",
   "language": "python",
   "name": "python3"
  },
  "language_info": {
   "codemirror_mode": {
    "name": "ipython",
    "version": 3
   },
   "file_extension": ".py",
   "mimetype": "text/x-python",
   "name": "python",
   "nbconvert_exporter": "python",
   "pygments_lexer": "ipython3",
   "version": "3.9.9"
  },
  "orig_nbformat": 4,
  "vscode": {
   "interpreter": {
    "hash": "4425858b88893680c2f11875c8d4c4ffc2b9270f7f567cab8004d63e6b2b06f0"
   }
  }
 },
 "nbformat": 4,
 "nbformat_minor": 2
}
